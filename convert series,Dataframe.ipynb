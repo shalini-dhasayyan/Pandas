{
 "cells": [
  {
   "cell_type": "code",
   "execution_count": 6,
   "id": "35695294",
   "metadata": {},
   "outputs": [],
   "source": [
    "# Create Series from array\n",
    "import pandas as pd \n",
    "import numpy as np\n",
    "from pandas import Series,DataFrame"
   ]
  },
  {
   "cell_type": "code",
   "execution_count": 13,
   "id": "f60345ac",
   "metadata": {},
   "outputs": [],
   "source": [
    "arr = np.array(['python','php','java'])\n",
    "seriesname =Series(arr)\n"
   ]
  },
  {
   "cell_type": "code",
   "execution_count": 11,
   "id": "925ddba6",
   "metadata": {},
   "outputs": [
    {
     "data": {
      "text/plain": [
       "0    python\n",
       "1       php\n",
       "2      java\n",
       "dtype: object"
      ]
     },
     "execution_count": 11,
     "metadata": {},
     "output_type": "execute_result"
    }
   ],
   "source": [
    "series"
   ]
  },
  {
   "cell_type": "code",
   "execution_count": 18,
   "id": "55f3d01c",
   "metadata": {},
   "outputs": [
    {
     "data": {
      "text/plain": [
       "Courses     pandas\n",
       "Fees         20000\n",
       "Duration    30days\n",
       "dtype: object"
      ]
     },
     "execution_count": 18,
     "metadata": {},
     "output_type": "execute_result"
    }
   ],
   "source": [
    "# Create series using dict\n",
    "dictionary_details = {'Courses' :\"pandas\", 'Fees' : 20000, 'Duration' : \"30days\"}\n",
    "seriesname1 = Series(dictionary_details)\n",
    "\n",
    "seriesname1"
   ]
  },
  {
   "cell_type": "code",
   "execution_count": 22,
   "id": "2f930ec6",
   "metadata": {},
   "outputs": [
    {
     "data": {
      "text/plain": [
       "Courses            pandas\n",
       "Course_Fee          20000\n",
       "Course_Duration    30days\n",
       "dtype: object"
      ]
     },
     "execution_count": 22,
     "metadata": {},
     "output_type": "execute_result"
    }
   ],
   "source": [
    "#create series from dict add index\n",
    "data = {'Courses' :\"pandas\", 'Course_Fee' : 20000, 'Course_Duration' : \"30days\"}\n",
    "seriesname3 = Series(data, index=['Courses','Course_Fee','Course_Duration'])\n",
    "seriesname3"
   ]
  },
  {
   "cell_type": "code",
   "execution_count": 25,
   "id": "ec9cde81",
   "metadata": {},
   "outputs": [
    {
     "data": {
      "text/plain": [
       "r1    python\n",
       "r2       php\n",
       "r3      java\n",
       "dtype: object"
      ]
     },
     "execution_count": 25,
     "metadata": {},
     "output_type": "execute_result"
    }
   ],
   "source": [
    "#Creating DataFrame from List\n",
    "data = ['python','php','java']\n",
    "ser11 = Series(data, index=['r1', 'r2','r3'])\n",
    "ser11"
   ]
  },
  {
   "cell_type": "code",
   "execution_count": 33,
   "id": "0f5894e2",
   "metadata": {},
   "outputs": [
    {
     "data": {
      "text/html": [
       "<div>\n",
       "<style scoped>\n",
       "    .dataframe tbody tr th:only-of-type {\n",
       "        vertical-align: middle;\n",
       "    }\n",
       "\n",
       "    .dataframe tbody tr th {\n",
       "        vertical-align: top;\n",
       "    }\n",
       "\n",
       "    .dataframe thead th {\n",
       "        text-align: right;\n",
       "    }\n",
       "</style>\n",
       "<table border=\"1\" class=\"dataframe\">\n",
       "  <thead>\n",
       "    <tr style=\"text-align: right;\">\n",
       "      <th></th>\n",
       "      <th>courses</th>\n",
       "      <th>fees</th>\n",
       "    </tr>\n",
       "  </thead>\n",
       "  <tbody>\n",
       "    <tr>\n",
       "      <th>0</th>\n",
       "      <td>Spark</td>\n",
       "      <td>22000</td>\n",
       "    </tr>\n",
       "    <tr>\n",
       "      <th>1</th>\n",
       "      <td>PySpark</td>\n",
       "      <td>25000</td>\n",
       "    </tr>\n",
       "    <tr>\n",
       "      <th>2</th>\n",
       "      <td>Hadoop</td>\n",
       "      <td>23000</td>\n",
       "    </tr>\n",
       "  </tbody>\n",
       "</table>\n",
       "</div>"
      ],
      "text/plain": [
       "   courses   fees\n",
       "0    Spark  22000\n",
       "1  PySpark  25000\n",
       "2   Hadoop  23000"
      ]
     },
     "execution_count": 33,
     "metadata": {},
     "output_type": "execute_result"
    }
   ],
   "source": [
    "#create dataframe fro 2 series\n",
    "courses = pd.Series([\"Spark\",\"PySpark\",\"Hadoop\"], name='courses')\n",
    "fees = pd.Series([22000,25000,23000], name='fees')\n",
    "pd.concat([courses,fees],axis=1)\n"
   ]
  },
  {
   "cell_type": "code",
   "execution_count": 38,
   "id": "307960aa",
   "metadata": {},
   "outputs": [
    {
     "data": {
      "text/plain": [
       "0    Python\n",
       "1       PHP\n",
       "2      Java\n",
       "Name: Courses, dtype: object"
      ]
     },
     "execution_count": 38,
     "metadata": {},
     "output_type": "execute_result"
    }
   ],
   "source": [
    "# create DataFrame with single column\n",
    "data =  [\"Python\",\"PHP\",\"Java\"]\n",
    "df = DataFrame(data, columns = ['Courses'])\n",
    "my_series = df.squeeze()#convert dataframe to series\n",
    "my_series\n"
   ]
  },
  {
   "cell_type": "code",
   "execution_count": null,
   "id": "b5ef952a",
   "metadata": {},
   "outputs": [],
   "source": []
  }
 ],
 "metadata": {
  "kernelspec": {
   "display_name": "Python 3 (ipykernel)",
   "language": "python",
   "name": "python3"
  },
  "language_info": {
   "codemirror_mode": {
    "name": "ipython",
    "version": 3
   },
   "file_extension": ".py",
   "mimetype": "text/x-python",
   "name": "python",
   "nbconvert_exporter": "python",
   "pygments_lexer": "ipython3",
   "version": "3.10.9"
  }
 },
 "nbformat": 4,
 "nbformat_minor": 5
}
