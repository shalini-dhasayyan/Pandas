{
 "cells": [
  {
   "cell_type": "code",
   "execution_count": 1,
   "id": "6fb6b88d",
   "metadata": {},
   "outputs": [],
   "source": [
    "from datetime import datetime"
   ]
  },
  {
   "cell_type": "code",
   "execution_count": 38,
   "id": "4ea5ade3",
   "metadata": {},
   "outputs": [
    {
     "name": "stdout",
     "output_type": "stream",
     "text": [
      "2023-07-29 12:45:16.619619\n"
     ]
    }
   ],
   "source": [
    "current_date=datetime.now() #get current date\n",
    "print(current_date)"
   ]
  },
  {
   "cell_type": "code",
   "execution_count": 12,
   "id": "54598001",
   "metadata": {},
   "outputs": [],
   "source": [
    "date=now.strftime(\"%d/%m/%y\") #convert datetime to string format day/month/year"
   ]
  },
  {
   "cell_type": "code",
   "execution_count": 17,
   "id": "d31e0038",
   "metadata": {},
   "outputs": [
    {
     "name": "stdout",
     "output_type": "stream",
     "text": [
      "29/07/23\n"
     ]
    }
   ],
   "source": [
    "print(date)"
   ]
  },
  {
   "cell_type": "code",
   "execution_count": 33,
   "id": "6ca8c136",
   "metadata": {},
   "outputs": [
    {
     "name": "stdout",
     "output_type": "stream",
     "text": [
      "07\n"
     ]
    }
   ],
   "source": [
    "month=now.strftime(\"%m\")\n",
    "print(month)      #convert the month to stringformat"
   ]
  },
  {
   "cell_type": "code",
   "execution_count": 34,
   "id": "1ebab18a",
   "metadata": {},
   "outputs": [
    {
     "name": "stdout",
     "output_type": "stream",
     "text": [
      "23\n"
     ]
    }
   ],
   "source": [
    "year=now.strftime(\"%y\")\n",
    "print(year)"
   ]
  },
  {
   "cell_type": "code",
   "execution_count": 35,
   "id": "4c6332e3",
   "metadata": {},
   "outputs": [
    {
     "name": "stdout",
     "output_type": "stream",
     "text": [
      "29\n"
     ]
    }
   ],
   "source": [
    "day=now.strftime(\"%d\")\n",
    "print(day)"
   ]
  },
  {
   "cell_type": "code",
   "execution_count": 40,
   "id": "56fee12c",
   "metadata": {},
   "outputs": [
    {
     "name": "stdout",
     "output_type": "stream",
     "text": [
      "2001-11-11 00:00:00\n"
     ]
    }
   ],
   "source": [
    "from datetime import datetime\n",
    "future_date=datetime(2001,11,11)#get future date\n",
    "print(future_date)"
   ]
  },
  {
   "cell_type": "code",
   "execution_count": 53,
   "id": "7366fd77",
   "metadata": {},
   "outputs": [
    {
     "name": "stdout",
     "output_type": "stream",
     "text": [
      "7424 days, 12:45:16.619619\n"
     ]
    }
   ],
   "source": [
    "#difference b/n two dates\n",
    "futuredatetime1=datetime(year=2003,month=4,day=1)\n",
    "time_difference=current_date-futuredatetime1\n",
    "print(time_difference)"
   ]
  },
  {
   "cell_type": "code",
   "execution_count": 64,
   "id": "cbc37071",
   "metadata": {},
   "outputs": [
    {
     "name": "stdout",
     "output_type": "stream",
     "text": [
      "2023-07-29\n"
     ]
    }
   ],
   "source": [
    "from datetime import date,timedelta #get the date\n",
    "today=date.today()\n",
    "print(today)"
   ]
  },
  {
   "cell_type": "code",
   "execution_count": 65,
   "id": "80c24e81",
   "metadata": {},
   "outputs": [],
   "source": [
    "date=today.strftime(\"%d/%m/%y\")"
   ]
  },
  {
   "cell_type": "code",
   "execution_count": 66,
   "id": "c85f3f5f",
   "metadata": {},
   "outputs": [
    {
     "name": "stdout",
     "output_type": "stream",
     "text": [
      "29/07/23\n"
     ]
    }
   ],
   "source": [
    "print(date)"
   ]
  },
  {
   "cell_type": "code",
   "execution_count": 78,
   "id": "63e1438c",
   "metadata": {},
   "outputs": [
    {
     "name": "stdout",
     "output_type": "stream",
     "text": [
      "2023-08-28 12:45:16.619619\n"
     ]
    }
   ],
   "source": [
    "from datetime import datetime\n",
    "\n",
    "futuredatetime1=current_date+timedelta(days=30)\n",
    "print(futuredatetime1)#adding 30 days to currentdate"
   ]
  },
  {
   "cell_type": "code",
   "execution_count": 80,
   "id": "fa40c09f",
   "metadata": {},
   "outputs": [
    {
     "name": "stdout",
     "output_type": "stream",
     "text": [
      "2003-04-04 00:00:00\n"
     ]
    }
   ],
   "source": [
    "futuredatetime2=datetime(year=2003,month=4,day=1)\n",
    "futuredatetime_1=futuredatetime2+timedelta(days=3)\n",
    "print(futuredatetime_1)#adding 30 days to futuredate"
   ]
  },
  {
   "cell_type": "code",
   "execution_count": null,
   "id": "cb8ae40e",
   "metadata": {},
   "outputs": [],
   "source": []
  }
 ],
 "metadata": {
  "kernelspec": {
   "display_name": "Python 3 (ipykernel)",
   "language": "python",
   "name": "python3"
  },
  "language_info": {
   "codemirror_mode": {
    "name": "ipython",
    "version": 3
   },
   "file_extension": ".py",
   "mimetype": "text/x-python",
   "name": "python",
   "nbconvert_exporter": "python",
   "pygments_lexer": "ipython3",
   "version": "3.10.9"
  }
 },
 "nbformat": 4,
 "nbformat_minor": 5
}
