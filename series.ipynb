{
 "cells": [
  {
   "cell_type": "markdown",
   "id": "9509c002",
   "metadata": {},
   "source": [
    "Series"
   ]
  },
  {
   "cell_type": "code",
   "execution_count": 7,
   "id": "cefd0f17",
   "metadata": {},
   "outputs": [],
   "source": [
    "import numpy as np\n",
    "import pandas as pd\n",
    "from pandas import Series, DataFrame"
   ]
  },
  {
   "cell_type": "code",
   "execution_count": 55,
   "id": "30f14ce8",
   "metadata": {},
   "outputs": [
    {
     "data": {
      "text/plain": [
       "0     1\n",
       "1     7\n",
       "2    10\n",
       "3    12\n",
       "dtype: int64"
      ]
     },
     "execution_count": 55,
     "metadata": {},
     "output_type": "execute_result"
    }
   ],
   "source": [
    "se_name = Series([1,7,10,12])\n",
    "se_name"
   ]
  },
  {
   "cell_type": "code",
   "execution_count": 56,
   "id": "bfad5f26",
   "metadata": {},
   "outputs": [
    {
     "data": {
      "text/plain": [
       "array([ 1,  7, 10, 12], dtype=int64)"
      ]
     },
     "execution_count": 56,
     "metadata": {},
     "output_type": "execute_result"
    }
   ],
   "source": [
    "se_name.values"
   ]
  },
  {
   "cell_type": "code",
   "execution_count": 57,
   "id": "2233cc3f",
   "metadata": {},
   "outputs": [
    {
     "data": {
      "text/plain": [
       "RangeIndex(start=0, stop=4, step=1)"
      ]
     },
     "execution_count": 57,
     "metadata": {},
     "output_type": "execute_result"
    }
   ],
   "source": [
    "se_name.index"
   ]
  },
  {
   "cell_type": "code",
   "execution_count": 58,
   "id": "aeeb641e",
   "metadata": {},
   "outputs": [
    {
     "data": {
      "text/plain": [
       "us         377658855\n",
       "mexico         65675\n",
       "canada      67679788\n",
       "china     3456588866\n",
       "ussr        67656887\n",
       "dtype: int64"
      ]
     },
     "execution_count": 58,
     "metadata": {},
     "output_type": "execute_result"
    }
   ],
   "source": [
    "se2=Series([377658855,65675,67679788,3456588866,67656887],index=['us','mexico','canada','china','ussr'])\n",
    "se2"
   ]
  },
  {
   "cell_type": "code",
   "execution_count": 59,
   "id": "3e9a9ff5",
   "metadata": {},
   "outputs": [],
   "source": [
    "#check which countries greater than 3million"
   ]
  },
  {
   "cell_type": "code",
   "execution_count": 60,
   "id": "d46d4bdf",
   "metadata": {},
   "outputs": [
    {
     "data": {
      "text/plain": [
       "us         377658855\n",
       "canada      67679788\n",
       "china     3456588866\n",
       "ussr        67656887\n",
       "dtype: int64"
      ]
     },
     "execution_count": 60,
     "metadata": {},
     "output_type": "execute_result"
    }
   ],
   "source": [
    "se2[se2>300000]"
   ]
  },
  {
   "cell_type": "code",
   "execution_count": 61,
   "id": "5e5c0891",
   "metadata": {},
   "outputs": [
    {
     "data": {
      "text/plain": [
       "{'us': 377658855,\n",
       " 'mexico': 65675,\n",
       " 'canada': 67679788,\n",
       " 'china': 3456588866,\n",
       " 'ussr': 67656887}"
      ]
     },
     "execution_count": 61,
     "metadata": {},
     "output_type": "execute_result"
    }
   ],
   "source": [
    "s_dict=se2.to_dict()\n",
    "s_dict"
   ]
  },
  {
   "cell_type": "code",
   "execution_count": 62,
   "id": "75625a55",
   "metadata": {},
   "outputs": [
    {
     "data": {
      "text/plain": [
       "us         377658855\n",
       "mexico         65675\n",
       "canada      67679788\n",
       "china     3456588866\n",
       "ussr        67656887\n",
       "dtype: int64"
      ]
     },
     "execution_count": 62,
     "metadata": {},
     "output_type": "execute_result"
    }
   ],
   "source": [
    "se2=Series(s_dict)\n",
    "se2"
   ]
  },
  {
   "cell_type": "code",
   "execution_count": 63,
   "id": "46efffb6",
   "metadata": {},
   "outputs": [],
   "source": [
    "countries=['us','mexico','canada','china','ussr','portugal']"
   ]
  },
  {
   "cell_type": "raw",
   "id": "4ef9fbc5",
   "metadata": {},
   "source": [
    "se2 = Series(s_dict,index=countries)\n",
    "se2"
   ]
  },
  {
   "cell_type": "code",
   "execution_count": 64,
   "id": "3aff7774",
   "metadata": {},
   "outputs": [
    {
     "data": {
      "text/plain": [
       "us        False\n",
       "mexico    False\n",
       "canada    False\n",
       "china     False\n",
       "ussr      False\n",
       "dtype: bool"
      ]
     },
     "execution_count": 64,
     "metadata": {},
     "output_type": "execute_result"
    }
   ],
   "source": [
    "pd.isnull(se2)"
   ]
  },
  {
   "cell_type": "code",
   "execution_count": 65,
   "id": "c4a2e2dd",
   "metadata": {},
   "outputs": [
    {
     "data": {
      "text/plain": [
       "us        True\n",
       "mexico    True\n",
       "canada    True\n",
       "china     True\n",
       "ussr      True\n",
       "dtype: bool"
      ]
     },
     "execution_count": 65,
     "metadata": {},
     "output_type": "execute_result"
    }
   ],
   "source": [
    "pd.notnull(se2)"
   ]
  }
 ],
 "metadata": {
  "kernelspec": {
   "display_name": "Python 3 (ipykernel)",
   "language": "python",
   "name": "python3"
  },
  "language_info": {
   "codemirror_mode": {
    "name": "ipython",
    "version": 3
   },
   "file_extension": ".py",
   "mimetype": "text/x-python",
   "name": "python",
   "nbconvert_exporter": "python",
   "pygments_lexer": "ipython3",
   "version": "3.10.9"
  }
 },
 "nbformat": 4,
 "nbformat_minor": 5
}
