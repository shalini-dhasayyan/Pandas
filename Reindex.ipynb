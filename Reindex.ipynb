{
 "cells": [
  {
   "cell_type": "markdown",
   "id": "01cc1052",
   "metadata": {},
   "source": [
    "RE-index"
   ]
  },
  {
   "cell_type": "code",
   "execution_count": 4,
   "id": "e0bffce7",
   "metadata": {},
   "outputs": [],
   "source": [
    "import pandas as pd\n",
    "import numpy as np\n",
    "from pandas import Series,DataFrame\n",
    "from numpy.random import randn"
   ]
  },
  {
   "cell_type": "code",
   "execution_count": 13,
   "id": "f255839a",
   "metadata": {},
   "outputs": [
    {
     "data": {
      "text/plain": [
       "a    1\n",
       "b    2\n",
       "c    3\n",
       "d    4\n",
       "dtype: int64"
      ]
     },
     "execution_count": 13,
     "metadata": {},
     "output_type": "execute_result"
    }
   ],
   "source": [
    "ser1=Series([1,2,3,4],index=['a','b','c','d'])\n",
    "ser1"
   ]
  },
  {
   "cell_type": "code",
   "execution_count": 51,
   "id": "89f85612",
   "metadata": {},
   "outputs": [
    {
     "data": {
      "text/plain": [
       "a    1.0\n",
       "b    2.0\n",
       "c    3.0\n",
       "d    4.0\n",
       "e    NaN\n",
       "dtype: float64"
      ]
     },
     "execution_count": 51,
     "metadata": {},
     "output_type": "execute_result"
    }
   ],
   "source": [
    "ser2=ser1.reindex(['a','b','c','d','e'])\n",
    "ser2"
   ]
  },
  {
   "cell_type": "code",
   "execution_count": 54,
   "id": "1b118a26",
   "metadata": {},
   "outputs": [
    {
     "data": {
      "text/plain": [
       "a    1.0\n",
       "b    2.0\n",
       "c    3.0\n",
       "d    4.0\n",
       "e    NaN\n",
       "f    0.0\n",
       "g    0.0\n",
       "dtype: float64"
      ]
     },
     "execution_count": 54,
     "metadata": {},
     "output_type": "execute_result"
    }
   ],
   "source": [
    "ser2.reindex(['a','b','c','d','e','f','g'],fill_value=0)\n"
   ]
  },
  {
   "cell_type": "code",
   "execution_count": 57,
   "id": "f3b7f5a4",
   "metadata": {},
   "outputs": [
    {
     "data": {
      "text/plain": [
       "0       usa\n",
       "3    mexico\n",
       "6    canada\n",
       "dtype: object"
      ]
     },
     "execution_count": 57,
     "metadata": {},
     "output_type": "execute_result"
    }
   ],
   "source": [
    "ser3=Series(['usa','mexico','canada'],index=[0,3,6])\n",
    "ser3"
   ]
  },
  {
   "cell_type": "code",
   "execution_count": 58,
   "id": "ebfd9b86",
   "metadata": {},
   "outputs": [],
   "source": [
    "df4=np.arange(15)"
   ]
  },
  {
   "cell_type": "code",
   "execution_count": 59,
   "id": "464b2bf0",
   "metadata": {},
   "outputs": [
    {
     "data": {
      "text/plain": [
       "array([ 0,  1,  2,  3,  4,  5,  6,  7,  8,  9, 10, 11, 12, 13, 14])"
      ]
     },
     "execution_count": 59,
     "metadata": {},
     "output_type": "execute_result"
    }
   ],
   "source": [
    "df4"
   ]
  },
  {
   "cell_type": "code",
   "execution_count": 60,
   "id": "8a124584",
   "metadata": {},
   "outputs": [
    {
     "data": {
      "text/plain": [
       "0        usa\n",
       "1        usa\n",
       "2        usa\n",
       "3     mexico\n",
       "4     mexico\n",
       "5     mexico\n",
       "6     canada\n",
       "7     canada\n",
       "8     canada\n",
       "9     canada\n",
       "10    canada\n",
       "11    canada\n",
       "12    canada\n",
       "13    canada\n",
       "14    canada\n",
       "dtype: object"
      ]
     },
     "execution_count": 60,
     "metadata": {},
     "output_type": "execute_result"
    }
   ],
   "source": [
    "ser3.reindex(df4,method='ffill')"
   ]
  },
  {
   "cell_type": "code",
   "execution_count": 68,
   "id": "2b8d507e",
   "metadata": {},
   "outputs": [
    {
     "data": {
      "text/html": [
       "<div>\n",
       "<style scoped>\n",
       "    .dataframe tbody tr th:only-of-type {\n",
       "        vertical-align: middle;\n",
       "    }\n",
       "\n",
       "    .dataframe tbody tr th {\n",
       "        vertical-align: top;\n",
       "    }\n",
       "\n",
       "    .dataframe thead th {\n",
       "        text-align: right;\n",
       "    }\n",
       "</style>\n",
       "<table border=\"1\" class=\"dataframe\">\n",
       "  <thead>\n",
       "    <tr style=\"text-align: right;\">\n",
       "      <th></th>\n",
       "      <th>col1</th>\n",
       "      <th>col2</th>\n",
       "      <th>col3</th>\n",
       "      <th>col4</th>\n",
       "      <th>col5</th>\n",
       "    </tr>\n",
       "  </thead>\n",
       "  <tbody>\n",
       "    <tr>\n",
       "      <th>a</th>\n",
       "      <td>-1.173968</td>\n",
       "      <td>-0.464270</td>\n",
       "      <td>1.668238</td>\n",
       "      <td>-0.215194</td>\n",
       "      <td>-0.589984</td>\n",
       "    </tr>\n",
       "    <tr>\n",
       "      <th>b</th>\n",
       "      <td>-0.689189</td>\n",
       "      <td>0.801946</td>\n",
       "      <td>0.661710</td>\n",
       "      <td>0.441176</td>\n",
       "      <td>-0.339835</td>\n",
       "    </tr>\n",
       "    <tr>\n",
       "      <th>d</th>\n",
       "      <td>0.701724</td>\n",
       "      <td>0.513570</td>\n",
       "      <td>-0.537786</td>\n",
       "      <td>-0.004600</td>\n",
       "      <td>0.456172</td>\n",
       "    </tr>\n",
       "    <tr>\n",
       "      <th>e</th>\n",
       "      <td>0.046372</td>\n",
       "      <td>-0.852378</td>\n",
       "      <td>1.082155</td>\n",
       "      <td>0.240939</td>\n",
       "      <td>-0.060287</td>\n",
       "    </tr>\n",
       "    <tr>\n",
       "      <th>f</th>\n",
       "      <td>0.425899</td>\n",
       "      <td>0.033499</td>\n",
       "      <td>0.446542</td>\n",
       "      <td>0.367194</td>\n",
       "      <td>1.934476</td>\n",
       "    </tr>\n",
       "  </tbody>\n",
       "</table>\n",
       "</div>"
      ],
      "text/plain": [
       "       col1      col2      col3      col4      col5\n",
       "a -1.173968 -0.464270  1.668238 -0.215194 -0.589984\n",
       "b -0.689189  0.801946  0.661710  0.441176 -0.339835\n",
       "d  0.701724  0.513570 -0.537786 -0.004600  0.456172\n",
       "e  0.046372 -0.852378  1.082155  0.240939 -0.060287\n",
       "f  0.425899  0.033499  0.446542  0.367194  1.934476"
      ]
     },
     "execution_count": 68,
     "metadata": {},
     "output_type": "execute_result"
    }
   ],
   "source": [
    "dframe = DataFrame(randn(25).reshape((5,5)),index=['a','b','d','e','f'],\n",
    "             columns=['col1','col2','col3','col4','col5'])\n",
    "dframe"
   ]
  },
  {
   "cell_type": "code",
   "execution_count": 69,
   "id": "90a94e84",
   "metadata": {},
   "outputs": [
    {
     "data": {
      "text/html": [
       "<div>\n",
       "<style scoped>\n",
       "    .dataframe tbody tr th:only-of-type {\n",
       "        vertical-align: middle;\n",
       "    }\n",
       "\n",
       "    .dataframe tbody tr th {\n",
       "        vertical-align: top;\n",
       "    }\n",
       "\n",
       "    .dataframe thead th {\n",
       "        text-align: right;\n",
       "    }\n",
       "</style>\n",
       "<table border=\"1\" class=\"dataframe\">\n",
       "  <thead>\n",
       "    <tr style=\"text-align: right;\">\n",
       "      <th></th>\n",
       "      <th>col1</th>\n",
       "      <th>col2</th>\n",
       "      <th>col3</th>\n",
       "      <th>col4</th>\n",
       "      <th>col5</th>\n",
       "    </tr>\n",
       "  </thead>\n",
       "  <tbody>\n",
       "    <tr>\n",
       "      <th>a</th>\n",
       "      <td>-1.173968</td>\n",
       "      <td>-0.464270</td>\n",
       "      <td>1.668238</td>\n",
       "      <td>-0.215194</td>\n",
       "      <td>-0.589984</td>\n",
       "    </tr>\n",
       "    <tr>\n",
       "      <th>b</th>\n",
       "      <td>-0.689189</td>\n",
       "      <td>0.801946</td>\n",
       "      <td>0.661710</td>\n",
       "      <td>0.441176</td>\n",
       "      <td>-0.339835</td>\n",
       "    </tr>\n",
       "    <tr>\n",
       "      <th>c</th>\n",
       "      <td>NaN</td>\n",
       "      <td>NaN</td>\n",
       "      <td>NaN</td>\n",
       "      <td>NaN</td>\n",
       "      <td>NaN</td>\n",
       "    </tr>\n",
       "    <tr>\n",
       "      <th>d</th>\n",
       "      <td>0.701724</td>\n",
       "      <td>0.513570</td>\n",
       "      <td>-0.537786</td>\n",
       "      <td>-0.004600</td>\n",
       "      <td>0.456172</td>\n",
       "    </tr>\n",
       "    <tr>\n",
       "      <th>e</th>\n",
       "      <td>0.046372</td>\n",
       "      <td>-0.852378</td>\n",
       "      <td>1.082155</td>\n",
       "      <td>0.240939</td>\n",
       "      <td>-0.060287</td>\n",
       "    </tr>\n",
       "  </tbody>\n",
       "</table>\n",
       "</div>"
      ],
      "text/plain": [
       "       col1      col2      col3      col4      col5\n",
       "a -1.173968 -0.464270  1.668238 -0.215194 -0.589984\n",
       "b -0.689189  0.801946  0.661710  0.441176 -0.339835\n",
       "c       NaN       NaN       NaN       NaN       NaN\n",
       "d  0.701724  0.513570 -0.537786 -0.004600  0.456172\n",
       "e  0.046372 -0.852378  1.082155  0.240939 -0.060287"
      ]
     },
     "execution_count": 69,
     "metadata": {},
     "output_type": "execute_result"
    }
   ],
   "source": [
    "dframe2=dframe.reindex(['a','b','c','d','e'])\n",
    "dframe2"
   ]
  },
  {
   "cell_type": "code",
   "execution_count": 70,
   "id": "0948604d",
   "metadata": {},
   "outputs": [
    {
     "data": {
      "text/html": [
       "<div>\n",
       "<style scoped>\n",
       "    .dataframe tbody tr th:only-of-type {\n",
       "        vertical-align: middle;\n",
       "    }\n",
       "\n",
       "    .dataframe tbody tr th {\n",
       "        vertical-align: top;\n",
       "    }\n",
       "\n",
       "    .dataframe thead th {\n",
       "        text-align: right;\n",
       "    }\n",
       "</style>\n",
       "<table border=\"1\" class=\"dataframe\">\n",
       "  <thead>\n",
       "    <tr style=\"text-align: right;\">\n",
       "      <th></th>\n",
       "      <th>col1</th>\n",
       "      <th>col2</th>\n",
       "      <th>col3</th>\n",
       "      <th>col4</th>\n",
       "      <th>col5</th>\n",
       "    </tr>\n",
       "  </thead>\n",
       "  <tbody>\n",
       "    <tr>\n",
       "      <th>a</th>\n",
       "      <td>-1.173968</td>\n",
       "      <td>-0.464270</td>\n",
       "      <td>1.668238</td>\n",
       "      <td>-0.215194</td>\n",
       "      <td>-0.589984</td>\n",
       "    </tr>\n",
       "    <tr>\n",
       "      <th>b</th>\n",
       "      <td>-0.689189</td>\n",
       "      <td>0.801946</td>\n",
       "      <td>0.661710</td>\n",
       "      <td>0.441176</td>\n",
       "      <td>-0.339835</td>\n",
       "    </tr>\n",
       "    <tr>\n",
       "      <th>c</th>\n",
       "      <td>NaN</td>\n",
       "      <td>NaN</td>\n",
       "      <td>NaN</td>\n",
       "      <td>NaN</td>\n",
       "      <td>NaN</td>\n",
       "    </tr>\n",
       "    <tr>\n",
       "      <th>d</th>\n",
       "      <td>0.701724</td>\n",
       "      <td>0.513570</td>\n",
       "      <td>-0.537786</td>\n",
       "      <td>-0.004600</td>\n",
       "      <td>0.456172</td>\n",
       "    </tr>\n",
       "    <tr>\n",
       "      <th>e</th>\n",
       "      <td>0.046372</td>\n",
       "      <td>-0.852378</td>\n",
       "      <td>1.082155</td>\n",
       "      <td>0.240939</td>\n",
       "      <td>-0.060287</td>\n",
       "    </tr>\n",
       "  </tbody>\n",
       "</table>\n",
       "</div>"
      ],
      "text/plain": [
       "       col1      col2      col3      col4      col5\n",
       "a -1.173968 -0.464270  1.668238 -0.215194 -0.589984\n",
       "b -0.689189  0.801946  0.661710  0.441176 -0.339835\n",
       "c       NaN       NaN       NaN       NaN       NaN\n",
       "d  0.701724  0.513570 -0.537786 -0.004600  0.456172\n",
       "e  0.046372 -0.852378  1.082155  0.240939 -0.060287"
      ]
     },
     "execution_count": 70,
     "metadata": {},
     "output_type": "execute_result"
    }
   ],
   "source": [
    "dframe2"
   ]
  },
  {
   "cell_type": "code",
   "execution_count": 79,
   "id": "e5ccbf5a",
   "metadata": {},
   "outputs": [],
   "source": [
    "new_columns=['col1','col2','col3','col4','col5','col6']"
   ]
  },
  {
   "cell_type": "code",
   "execution_count": 80,
   "id": "48b67181",
   "metadata": {},
   "outputs": [
    {
     "data": {
      "text/html": [
       "<div>\n",
       "<style scoped>\n",
       "    .dataframe tbody tr th:only-of-type {\n",
       "        vertical-align: middle;\n",
       "    }\n",
       "\n",
       "    .dataframe tbody tr th {\n",
       "        vertical-align: top;\n",
       "    }\n",
       "\n",
       "    .dataframe thead th {\n",
       "        text-align: right;\n",
       "    }\n",
       "</style>\n",
       "<table border=\"1\" class=\"dataframe\">\n",
       "  <thead>\n",
       "    <tr style=\"text-align: right;\">\n",
       "      <th></th>\n",
       "      <th>col1</th>\n",
       "      <th>col2</th>\n",
       "      <th>col3</th>\n",
       "      <th>col4</th>\n",
       "      <th>col5</th>\n",
       "      <th>col6</th>\n",
       "    </tr>\n",
       "  </thead>\n",
       "  <tbody>\n",
       "    <tr>\n",
       "      <th>a</th>\n",
       "      <td>-1.173968</td>\n",
       "      <td>-0.464270</td>\n",
       "      <td>1.668238</td>\n",
       "      <td>-0.215194</td>\n",
       "      <td>-0.589984</td>\n",
       "      <td>NaN</td>\n",
       "    </tr>\n",
       "    <tr>\n",
       "      <th>b</th>\n",
       "      <td>-0.689189</td>\n",
       "      <td>0.801946</td>\n",
       "      <td>0.661710</td>\n",
       "      <td>0.441176</td>\n",
       "      <td>-0.339835</td>\n",
       "      <td>NaN</td>\n",
       "    </tr>\n",
       "    <tr>\n",
       "      <th>c</th>\n",
       "      <td>NaN</td>\n",
       "      <td>NaN</td>\n",
       "      <td>NaN</td>\n",
       "      <td>NaN</td>\n",
       "      <td>NaN</td>\n",
       "      <td>NaN</td>\n",
       "    </tr>\n",
       "    <tr>\n",
       "      <th>d</th>\n",
       "      <td>0.701724</td>\n",
       "      <td>0.513570</td>\n",
       "      <td>-0.537786</td>\n",
       "      <td>-0.004600</td>\n",
       "      <td>0.456172</td>\n",
       "      <td>NaN</td>\n",
       "    </tr>\n",
       "    <tr>\n",
       "      <th>e</th>\n",
       "      <td>0.046372</td>\n",
       "      <td>-0.852378</td>\n",
       "      <td>1.082155</td>\n",
       "      <td>0.240939</td>\n",
       "      <td>-0.060287</td>\n",
       "      <td>NaN</td>\n",
       "    </tr>\n",
       "  </tbody>\n",
       "</table>\n",
       "</div>"
      ],
      "text/plain": [
       "       col1      col2      col3      col4      col5  col6\n",
       "a -1.173968 -0.464270  1.668238 -0.215194 -0.589984   NaN\n",
       "b -0.689189  0.801946  0.661710  0.441176 -0.339835   NaN\n",
       "c       NaN       NaN       NaN       NaN       NaN   NaN\n",
       "d  0.701724  0.513570 -0.537786 -0.004600  0.456172   NaN\n",
       "e  0.046372 -0.852378  1.082155  0.240939 -0.060287   NaN"
      ]
     },
     "execution_count": 80,
     "metadata": {},
     "output_type": "execute_result"
    }
   ],
   "source": [
    "dframe2.reindex(columns=new_columns)"
   ]
  },
  {
   "cell_type": "code",
   "execution_count": 86,
   "id": "1351aadc",
   "metadata": {},
   "outputs": [
    {
     "data": {
      "text/html": [
       "<div>\n",
       "<style scoped>\n",
       "    .dataframe tbody tr th:only-of-type {\n",
       "        vertical-align: middle;\n",
       "    }\n",
       "\n",
       "    .dataframe tbody tr th {\n",
       "        vertical-align: top;\n",
       "    }\n",
       "\n",
       "    .dataframe thead th {\n",
       "        text-align: right;\n",
       "    }\n",
       "</style>\n",
       "<table border=\"1\" class=\"dataframe\">\n",
       "  <thead>\n",
       "    <tr style=\"text-align: right;\">\n",
       "      <th></th>\n",
       "      <th>col1</th>\n",
       "      <th>col2</th>\n",
       "      <th>col3</th>\n",
       "      <th>col4</th>\n",
       "      <th>col5</th>\n",
       "    </tr>\n",
       "  </thead>\n",
       "  <tbody>\n",
       "    <tr>\n",
       "      <th>a</th>\n",
       "      <td>-1.173968</td>\n",
       "      <td>-0.464270</td>\n",
       "      <td>1.668238</td>\n",
       "      <td>-0.215194</td>\n",
       "      <td>-0.589984</td>\n",
       "    </tr>\n",
       "    <tr>\n",
       "      <th>b</th>\n",
       "      <td>-0.689189</td>\n",
       "      <td>0.801946</td>\n",
       "      <td>0.661710</td>\n",
       "      <td>0.441176</td>\n",
       "      <td>-0.339835</td>\n",
       "    </tr>\n",
       "    <tr>\n",
       "      <th>d</th>\n",
       "      <td>0.701724</td>\n",
       "      <td>0.513570</td>\n",
       "      <td>-0.537786</td>\n",
       "      <td>-0.004600</td>\n",
       "      <td>0.456172</td>\n",
       "    </tr>\n",
       "    <tr>\n",
       "      <th>e</th>\n",
       "      <td>0.046372</td>\n",
       "      <td>-0.852378</td>\n",
       "      <td>1.082155</td>\n",
       "      <td>0.240939</td>\n",
       "      <td>-0.060287</td>\n",
       "    </tr>\n",
       "    <tr>\n",
       "      <th>f</th>\n",
       "      <td>0.425899</td>\n",
       "      <td>0.033499</td>\n",
       "      <td>0.446542</td>\n",
       "      <td>0.367194</td>\n",
       "      <td>1.934476</td>\n",
       "    </tr>\n",
       "  </tbody>\n",
       "</table>\n",
       "</div>"
      ],
      "text/plain": [
       "       col1      col2      col3      col4      col5\n",
       "a -1.173968 -0.464270  1.668238 -0.215194 -0.589984\n",
       "b -0.689189  0.801946  0.661710  0.441176 -0.339835\n",
       "d  0.701724  0.513570 -0.537786 -0.004600  0.456172\n",
       "e  0.046372 -0.852378  1.082155  0.240939 -0.060287\n",
       "f  0.425899  0.033499  0.446542  0.367194  1.934476"
      ]
     },
     "execution_count": 86,
     "metadata": {},
     "output_type": "execute_result"
    }
   ],
   "source": [
    "dframe"
   ]
  },
  {
   "cell_type": "code",
   "execution_count": null,
   "id": "69b8dba0",
   "metadata": {},
   "outputs": [],
   "source": []
  }
 ],
 "metadata": {
  "kernelspec": {
   "display_name": "Python 3 (ipykernel)",
   "language": "python",
   "name": "python3"
  },
  "language_info": {
   "codemirror_mode": {
    "name": "ipython",
    "version": 3
   },
   "file_extension": ".py",
   "mimetype": "text/x-python",
   "name": "python",
   "nbconvert_exporter": "python",
   "pygments_lexer": "ipython3",
   "version": "3.10.9"
  }
 },
 "nbformat": 4,
 "nbformat_minor": 5
}
